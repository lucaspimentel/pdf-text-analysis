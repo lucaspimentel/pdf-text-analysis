{
 "cells": [
  {
   "cell_type": "code",
   "execution_count": 3,
   "metadata": {},
   "outputs": [],
   "source": [
    "folder_path = \"D:\\\\source\\\\lucaspimentel\\\\pdf-text-analysis\\\\output\\\\xpdf\"\n",
    "model_name = 'all-mpnet-base-v2' # 'all-MiniLM-L6-v2'"
   ]
  },
  {
   "cell_type": "code",
   "execution_count": 4,
   "metadata": {},
   "outputs": [
    {
     "ename": "UnicodeDecodeError",
     "evalue": "'utf-8' codec can't decode byte 0xd5 in position 63: invalid continuation byte",
     "output_type": "error",
     "traceback": [
      "\u001b[1;31m---------------------------------------------------------------------------\u001b[0m",
      "\u001b[1;31mUnicodeDecodeError\u001b[0m                        Traceback (most recent call last)",
      "Cell \u001b[1;32mIn[4], line 45\u001b[0m\n\u001b[0;32m     43\u001b[0m file_path \u001b[38;5;241m=\u001b[39m os\u001b[38;5;241m.\u001b[39mpath\u001b[38;5;241m.\u001b[39mjoin(folder_path, filename)\n\u001b[0;32m     44\u001b[0m \u001b[38;5;28;01mwith\u001b[39;00m \u001b[38;5;28mopen\u001b[39m(file_path, \u001b[38;5;124m'\u001b[39m\u001b[38;5;124mr\u001b[39m\u001b[38;5;124m'\u001b[39m, encoding\u001b[38;5;241m=\u001b[39m\u001b[38;5;124m'\u001b[39m\u001b[38;5;124mutf-8\u001b[39m\u001b[38;5;124m'\u001b[39m) \u001b[38;5;28;01mas\u001b[39;00m f:\n\u001b[1;32m---> 45\u001b[0m     text \u001b[38;5;241m=\u001b[39m \u001b[43mf\u001b[49m\u001b[38;5;241;43m.\u001b[39;49m\u001b[43mread\u001b[49m\u001b[43m(\u001b[49m\u001b[43m)\u001b[49m\n\u001b[0;32m     46\u001b[0m documents\u001b[38;5;241m.\u001b[39mappend(text)\n\u001b[0;32m     47\u001b[0m file_list\u001b[38;5;241m.\u001b[39mappend(simplify_filename(filename))\n",
      "File \u001b[1;32m<frozen codecs>:325\u001b[0m, in \u001b[0;36mdecode\u001b[1;34m(self, input, final)\u001b[0m\n",
      "\u001b[1;31mUnicodeDecodeError\u001b[0m: 'utf-8' codec can't decode byte 0xd5 in position 63: invalid continuation byte"
     ]
    }
   ],
   "source": [
    "import os\n",
    "import re\n",
    "from sentence_transformers import SentenceTransformer, util\n",
    "import numpy as np\n",
    "from sklearn.manifold import TSNE\n",
    "import matplotlib.pyplot as plt\n",
    "\n",
    "# 1) Specify the folder that contains your .txt files\n",
    "# folder_path = \"path/to/your/textfiles\"  # <-- update this path\n",
    "\n",
    "# 2) Function to simplify filenames\n",
    "def simplify_filename(filename: str) -> str:\n",
    "    \"\"\"\n",
    "    Extracts just the country name and the year range (or single year) from a filename.\n",
    "    \n",
    "    Examples:\n",
    "      \"Afghanistan AMR NAP (2017-2021).txt\" => \"Afghanistan 2017-2021\"\n",
    "      \"Algeria AMR NAP (2024-2028) English Translation.txt\" => \"Algeria 2024-2028\"\n",
    "      \"Argentina AMR NAP [2015] English Translation.txt\" => \"Argentina 2015\"\n",
    "      \"Cambodia AMR NAP (2019-2023) English Translation (WOAH version).txt\" => \"Cambodia 2019-2023\"\n",
    "      \"Cook Islands AMR NAP (2016-2020).txt\" => \"Cook Islands 2016-2020\"\n",
    "    \"\"\"\n",
    "\n",
    "    # Extract the country name and year range (or single year) from the filename\n",
    "    match = re.match(r\"(.+) AMR NAP (\\((\\d{4}-\\d{4})\\)|\\[(\\d{4})\\])?.+\", filename)\n",
    "    if match:\n",
    "        country = match.group(1).strip()\n",
    "        year = match.group(3).strip() if match.group(3) else match.group(4).strip() if match.group(4) else \"\"\n",
    "    else:\n",
    "        country = filename.strip()\n",
    "        year = \"\"\n",
    "\n",
    "    # output the simplified filename\n",
    "    return f\"{country} {year}\".strip()\n",
    "\n",
    "\n",
    "# 3) Read all .txt files and store their contents and simplified filenames\n",
    "documents = []\n",
    "file_list = []  # will store simplified filenames for output\n",
    "\n",
    "for filename in os.listdir(folder_path):\n",
    "    if filename.endswith(\".txt\"):\n",
    "        file_path = os.path.join(folder_path, filename)\n",
    "        with open(file_path, 'r', encoding='utf-8') as f:\n",
    "            text = f.read()\n",
    "        documents.append(text)\n",
    "        file_list.append(simplify_filename(filename))\n",
    "\n",
    "print(f\"Loaded {len(documents)} documents from {folder_path}.\")\n",
    "\n",
    "# 4) Load a Sentence-BERT model\n",
    "model = SentenceTransformer(model_name)\n",
    "\n",
    "# 5) Convert documents to SBERT embeddings\n",
    "embeddings = model.encode(documents, convert_to_tensor=True)\n",
    "\n",
    "# 6) Compute pairwise cosine similarity\n",
    "similarity_matrix = util.cos_sim(embeddings, embeddings).cpu().numpy()\n",
    "# similarity_matrix[i, j] represents similarity between document i and j\n",
    "\n",
    "# 7) Identify the most similar document for each file (using simplified filenames)\n",
    "num_docs = len(documents)\n",
    "for i in range(num_docs):\n",
    "    row = similarity_matrix[i].copy()\n",
    "    row[i] = -1  # ignore self-similarity\n",
    "    best_match_idx = np.argmax(row)\n",
    "    print(f\"'{file_list[i]}' is most similar to '{file_list[best_match_idx]}' with score {row[best_match_idx]:.4f}\")\n",
    "\n",
    "# 8) t-SNE for visualization\n",
    "tsne = TSNE(n_components=2, random_state=42)\n",
    "reduced_embeddings = tsne.fit_transform(embeddings.cpu())\n",
    "\n",
    "plt.figure(figsize=(20, 15))\n",
    "plt.scatter(reduced_embeddings[:, 0], reduced_embeddings[:, 1], alpha=0.6)\n",
    "for i, fname in enumerate(file_list):\n",
    "    plt.annotate(fname, (reduced_embeddings[i, 0], reduced_embeddings[i, 1]))\n",
    "plt.title(\"SBERT Document Embeddings (t-SNE Visualization)\")\n",
    "plt.show()\n"
   ]
  }
 ],
 "metadata": {
  "kernelspec": {
   "display_name": "venv",
   "language": "python",
   "name": "python3"
  },
  "language_info": {
   "codemirror_mode": {
    "name": "ipython",
    "version": 3
   },
   "file_extension": ".py",
   "mimetype": "text/x-python",
   "name": "python",
   "nbconvert_exporter": "python",
   "pygments_lexer": "ipython3",
   "version": "3.13.2"
  }
 },
 "nbformat": 4,
 "nbformat_minor": 2
}
